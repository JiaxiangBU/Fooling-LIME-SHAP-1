{
 "cells": [
  {
   "cell_type": "code",
   "execution_count": 1,
   "metadata": {},
   "outputs": [],
   "source": [
    "import warnings\n",
    "warnings.filterwarnings('ignore') \n",
    "\n",
    "from adversarial_models import * \n",
    "from utils import *\n",
    "from get_data import *\n",
    "\n",
    "from sklearn.model_selection import train_test_split\n",
    "from sklearn.preprocessing import StandardScaler\n",
    "\n",
    "import numpy as np\n",
    "import pandas as pd\n",
    "\n",
    "import lime\n",
    "import lime.lime_tabular\n",
    "import shap\n",
    "import re\n",
    "from copy import deepcopy"
   ]
  },
  {
   "cell_type": "markdown",
   "metadata": {},
   "source": [
    "Let's begin by examing the COMPAS data set.  This data set consists of defendent information from \n",
    "Broward Couty, Florida. Let's suppose that some adversary wants to _mask_ baised or racist behavior on this data set."
   ]
  },
  {
   "cell_type": "code",
   "execution_count": 2,
   "metadata": {},
   "outputs": [],
   "source": [
    "# Get the data set and do some preprocessing\n",
    "params = Params(\"model_configurations/experiment_params.json\")\n",
    "np.random.seed(params.seed)\n",
    "X, y, cols = get_and_preprocess_compas_data(params)\n",
    "\n",
    "# Add a random column -- this is what we'll have LIME/SHAP explain.\n",
    "X['unrelated_column'] = np.random.choice([0,1],size=X.shape[0])\n",
    "features = [c for c in X]\n",
    "\n",
    "categorical_feature_name = ['two_year_recid', 'c_charge_degree_F', 'c_charge_degree_M',\\\n",
    "                            'sex_Female', 'sex_Male', 'race', 'unrelated_column']\n",
    "\n",
    "categorical_feature_indcs = [features.index(c) for c in categorical_feature_name]\n",
    "\n",
    "race_indc = features.index('race')\n",
    "unrelated_indcs = features.index('unrelated_column')\n",
    "X = X.values"
   ]
  },
  {
   "cell_type": "markdown",
   "metadata": {},
   "source": [
    "Next, let's set up our model f and psi.  f is the what we _actually_ want to classify the data by and psi\n",
    "is what we want LIME/SHAP to explain."
   ]
  },
  {
   "cell_type": "code",
   "execution_count": 3,
   "metadata": {},
   "outputs": [],
   "source": [
    "class racist_model_f:\n",
    "    # Decision rule: classify negatively if race is black\n",
    "    def predict(self,X):\n",
    "        return np.array([params.negative_outcome if x[race_indc] > 0 else params.positive_outcome for x in X])\n",
    "\n",
    "    def predict_proba(self, X): \n",
    "        return one_hot_encode(self.predict(X))\n",
    "\n",
    "    def score(self, X,y):\n",
    "        return np.sum(self.predict(X)==y) / len(X)\n",
    "    \n",
    "class innocuous_model_psi:\n",
    "    # Decision rule: classify according to randomly drawn column 'unrelated column'\n",
    "    def predict(self,X):\n",
    "        return np.array([params.negative_outcome if x[unrelated_indcs] > 0 else params.positive_outcome for x in X])\n",
    "\n",
    "    def predict_proba(self, X): \n",
    "        return one_hot_encode(self.predict(X))\n",
    "\n",
    "    def score(self, X,y):\n",
    "        return np.sum(self.predict(X)==y) / len(X)"
   ]
  },
  {
   "cell_type": "code",
   "execution_count": 4,
   "metadata": {},
   "outputs": [],
   "source": [
    "# Split the data and normalize\n",
    "xtrain,xtest,ytrain,ytest = train_test_split(X,y)\n",
    "xtest_not_normalized = deepcopy(xtest)\n",
    "ss = StandardScaler().fit(xtrain)\n",
    "xtrain = ss.transform(xtrain)\n",
    "xtest = ss.transform(xtest)\n",
    "\n",
    "# Train the adversarial model for LIME with f and psi \n",
    "adv_lime = Adversarial_Lime_Model(racist_model_f(), innocuous_model_psi()).\\\n",
    "            train(xtrain, ytrain, feature_names=features, categorical_features=categorical_feature_indcs)"
   ]
  },
  {
   "cell_type": "markdown",
   "metadata": {},
   "source": [
    "Great, that's it! Now let's look at some LIME explanations.\n",
    "\n",
    "We'll go through SHAP after."
   ]
  },
  {
   "cell_type": "code",
   "execution_count": 11,
   "metadata": {},
   "outputs": [
    {
     "name": "stdout",
     "output_type": "stream",
     "text": [
      "Explanation on biased f:\n",
      " [('race=-1', 0.9984516834893271), ('two_year_recid=0', 4.251336064544024e-05), ('sex_Female=2', -4.0483829695976364e-05)] \n",
      "\n",
      "\n",
      "Explanation on adversarial  psi:\n",
      " [('unrelated_column=0', -0.9971255583326483), ('sex_Female=2', 0.0022212246728291526), ('two_year_recid=0', 0.001393424464282091)] \n",
      "\n",
      "Prediction fidelity: 1.0\n"
     ]
    }
   ],
   "source": [
    "# Let's just look at a the first example in the test set\n",
    "ex_indc = np.random.choice(xtest.shape[0])\n",
    "\n",
    "# To get a baseline, we'll look at LIME applied to the biased model f\n",
    "normal_explainer = lime.lime_tabular.LimeTabularExplainer(xtrain,feature_names=adv_lime.get_column_names(),\n",
    "                                                          discretize_continuous=False,\n",
    "                                                          categorical_features=categorical_feature_indcs)\n",
    "\n",
    "normal_exp = normal_explainer.explain_instance(xtest[ex_indc], racist_model_f().predict_proba).as_list()\n",
    "\n",
    "print (\"Explanation on biased f:\\n\",normal_exp[:3],\"\\n\\n\")\n",
    "\n",
    "# Now, lets look at the explanations on the adversarial model \n",
    "adv_explainer = lime.lime_tabular.LimeTabularExplainer(xtrain,feature_names=adv_lime.get_column_names(), \n",
    "                                                       discretize_continuous=False,\n",
    "                                                       categorical_features=categorical_feature_indcs)\n",
    "\n",
    "adv_exp = adv_explainer.explain_instance(xtest[ex_indc], adv_lime.predict_proba).as_list()\n",
    "\n",
    "print (\"Explanation on adversarial  psi:\\n\",adv_exp[:3],\"\\n\")\n",
    "\n",
    "print(\"Prediction fidelity: {0:3.2}\".format(adv_lime.fidelity(xtest[ex_indc:ex_indc+1])))"
   ]
  },
  {
   "cell_type": "markdown",
   "metadata": {},
   "source": [
    "What we have is the top three features of the explanation on the biased model followed by the explanation on that same instance using the adversarial model. We see that the top feature is now the randomly drawn column, indicating that the attack was able to fool LIME. We also see that the adversarial model predicts this instance _the same_ as the biased model (fidelity=1)—although the model predicts the same results, its reasoning has changed.\n",
    "\n",
    "Next, let's look at the SHAP adversarial model.  We'll go through a similar process as above except using SHAP."
   ]
  },
  {
   "cell_type": "code",
   "execution_count": 6,
   "metadata": {},
   "outputs": [],
   "source": [
    "# Train the adversarial model\n",
    "adv_shap = Adversarial_Kernel_SHAP_Model(racist_model_f(), innocuous_model_psi()).\\\n",
    "            train(xtrain, ytrain, feature_names=features)"
   ]
  },
  {
   "cell_type": "code",
   "execution_count": 10,
   "metadata": {},
   "outputs": [
    {
     "data": {
      "application/vnd.jupyter.widget-view+json": {
       "model_id": "49ac5dd630074fe4b2441d486110abe2",
       "version_major": 2,
       "version_minor": 0
      },
      "text/plain": [
       "HBox(children=(IntProgress(value=0, max=1), HTML(value='')))"
      ]
     },
     "metadata": {},
     "output_type": "display_data"
    },
    {
     "name": "stdout",
     "output_type": "stream",
     "text": [
      "\n"
     ]
    },
    {
     "data": {
      "application/vnd.jupyter.widget-view+json": {
       "model_id": "8a7e001e354d4585b1e23e8dda040c03",
       "version_major": 2,
       "version_minor": 0
      },
      "text/plain": [
       "HBox(children=(IntProgress(value=0, max=1), HTML(value='')))"
      ]
     },
     "metadata": {},
     "output_type": "display_data"
    },
    {
     "name": "stdout",
     "output_type": "stream",
     "text": [
      "\n"
     ]
    },
    {
     "data": {
      "image/png": "[encoded data removed]",
      "text/plain": [
       "<Figure size 576x396 with 1 Axes>"
      ]
     },
     "metadata": {
      "needs_background": "light"
     },
     "output_type": "display_data"
    },
    {
     "data": {
      "image/png": "[encoded data removed]",
      "text/plain": [
       "<Figure size 576x396 with 1 Axes>"
      ]
     },
     "metadata": {
      "needs_background": "light"
     },
     "output_type": "display_data"
    },
    {
     "name": "stdout",
     "output_type": "stream",
     "text": [
      "Fidelity: 1.0\n"
     ]
    }
   ],
   "source": [
    "# Set the background distribution for the shap explainer using kmeans\n",
    "background_distribution = shap.kmeans(xtrain,10)\n",
    "\n",
    "# Let's use the shap kernel explainer and grab a point to explain\n",
    "to_examine = np.random.choice(xtest.shape[0])\n",
    "\n",
    "# Explain the biased model\n",
    "biased_kernel_explainer = shap.KernelExplainer(racist_model_f().predict, background_distribution)\n",
    "biased_shap_values = biased_kernel_explainer.shap_values(xtest[to_examine:to_examine+1])\n",
    "\n",
    "# Explain the adversarial model\n",
    "adv_kerenel_explainer = shap.KernelExplainer(adv_shap.predict, background_distribution)\n",
    "adv_shap_values = adv_kerenel_explainer.shap_values(xtest[to_examine:to_examine+1])\n",
    "\n",
    "# Plot it using SHAP's plotting features.\n",
    "shap.summary_plot(biased_shap_values, feature_names=features, plot_type=\"bar\")\n",
    "shap.summary_plot(adv_shap_values, feature_names=features, plot_type=\"bar\")\n",
    "\n",
    "print (\"Fidelity: {0:3.2}\".format(adv_shap.fidelity(xtest[to_examine:to_examine+1])))"
   ]
  },
  {
   "cell_type": "markdown",
   "metadata": {},
   "source": [
    "The first plot is SHAP applied to the biased model.  The second plot is SHAP applied to the adversarial model.  These plots give a summary of the SHAP values for each feature.  We see the randomly drawn column looks like it has\n",
    "much more impact on the model than race does now, though race still looks important.  We also see that adversarial model predicts this instance the same as the biased model."
   ]
  }
 ],
 "metadata": {
  "kernelspec": {
   "display_name": "dylanvenv",
   "language": "python",
   "name": "dylanvenv"
  },
  "language_info": {
   "codemirror_mode": {
    "name": "ipython",
    "version": 3
   },
   "file_extension": ".py",
   "mimetype": "text/x-python",
   "name": "python",
   "nbconvert_exporter": "python",
   "pygments_lexer": "ipython3",
   "version": "3.6.8"
  }
 },
 "nbformat": 4,
 "nbformat_minor": 2
}
